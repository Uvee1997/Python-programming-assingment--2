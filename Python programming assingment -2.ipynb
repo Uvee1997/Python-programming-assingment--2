{
 "cells": [
  {
   "cell_type": "markdown",
   "id": "df50f5be",
   "metadata": {},
   "source": [
    "1) Write python program to convert kilometers to miles?"
   ]
  },
  {
   "cell_type": "code",
   "execution_count": 5,
   "id": "64138631",
   "metadata": {},
   "outputs": [
    {
     "name": "stdout",
     "output_type": "stream",
     "text": [
      "4.400 kilometers is equal to 2.734 miles \n"
     ]
    }
   ],
   "source": [
    "kilometers = 4.4\n",
    "conv = 0.621371\n",
    "miles = kilometers * conv\n",
    "print('%0.3f kilometers is equal to %0.3f miles '%(kilometers,miles))"
   ]
  },
  {
   "cell_type": "markdown",
   "id": "3a6642ae",
   "metadata": {},
   "source": [
    "2) Write a Python program to convert Celsius to Fahrenheit?"
   ]
  },
  {
   "cell_type": "code",
   "execution_count": 7,
   "id": "321fccdd",
   "metadata": {},
   "outputs": [
    {
     "name": "stdout",
     "output_type": "stream",
     "text": [
      "enter celsius value40\n",
      "40.00 Celsius is equivalent to: 104.00 Fahrenheit\n"
     ]
    }
   ],
   "source": [
    "celsius = float(input(\"enter celsius value\"))\n",
    "fahrenheit = (celsius * 1.8) + 32\n",
    "print('%.2f Celsius is equivalent to: %.2f Fahrenheit'\n",
    "      %(celsius, fahrenheit))"
   ]
  },
  {
   "cell_type": "markdown",
   "id": "48a19be0",
   "metadata": {},
   "source": [
    "3) Write a python program to display calendar?"
   ]
  },
  {
   "cell_type": "code",
   "execution_count": 3,
   "id": "37ee81a9",
   "metadata": {},
   "outputs": [
    {
     "name": "stdout",
     "output_type": "stream",
     "text": [
      "enter year= \n",
      "2020\n",
      "\n",
      "enter month number (1-12) \n",
      "5\n",
      "\n",
      "       May 2020\n",
      "Mo Tu We Th Fr Sa Su\n",
      "             1  2  3\n",
      " 4  5  6  7  8  9 10\n",
      "11 12 13 14 15 16 17\n",
      "18 19 20 21 22 23 24\n",
      "25 26 27 28 29 30 31\n",
      "\n"
     ]
    }
   ],
   "source": [
    "import calendar\n",
    "print(\"enter year= \")\n",
    "yy = input()\n",
    "print(\"\\nenter month number (1-12) \")\n",
    "mm = input()\n",
    "\n",
    "y = int(yy)\n",
    "m = int(mm)\n",
    "print(\"\\n\", calendar.month(y,m))"
   ]
  },
  {
   "cell_type": "markdown",
   "id": "fc5a3fa8",
   "metadata": {},
   "source": [
    "4) Write a python program to solve quadratic equation?"
   ]
  },
  {
   "cell_type": "code",
   "execution_count": 4,
   "id": "fa754b32",
   "metadata": {},
   "outputs": [
    {
     "name": "stdout",
     "output_type": "stream",
     "text": [
      "enter value of a8\n",
      "enter value of b9\n",
      "enter value of c5\n"
     ]
    }
   ],
   "source": [
    "import cmath\n",
    "a = int(input(\"enter value of a\"))\n",
    "b = int(input(\"enter value of b\"))\n",
    "c = int(input(\"enter value of c\"))\n",
    "\n",
    "d = (b**2) - (4*a*c)\n",
    "s1 = (-b-cmath.sqrt(d))/(2*a)\n",
    "s2 = (-b+cmath.sqrt(d))/(2*a)\n",
    "print = (\"the solution are {0} and {1}\".format(s1,s2))"
   ]
  },
  {
   "cell_type": "markdown",
   "id": "aeadd7b0",
   "metadata": {},
   "source": [
    "5) Write a python program to swap two variables without temp variables?"
   ]
  },
  {
   "cell_type": "code",
   "execution_count": 8,
   "id": "6c4c6fe1",
   "metadata": {},
   "outputs": [
    {
     "name": "stdout",
     "output_type": "stream",
     "text": [
      "value of x 10\n",
      "value of y 5\n"
     ]
    }
   ],
   "source": [
    "x = 5\n",
    "y = 10\n",
    "x,y = y,x\n",
    "print(\"value of x\" ,x)\n",
    "print(\"value of y\" ,y)"
   ]
  },
  {
   "cell_type": "code",
   "execution_count": null,
   "id": "b9ee352c",
   "metadata": {},
   "outputs": [],
   "source": []
  }
 ],
 "metadata": {
  "kernelspec": {
   "display_name": "Python 3 (ipykernel)",
   "language": "python",
   "name": "python3"
  },
  "language_info": {
   "codemirror_mode": {
    "name": "ipython",
    "version": 3
   },
   "file_extension": ".py",
   "mimetype": "text/x-python",
   "name": "python",
   "nbconvert_exporter": "python",
   "pygments_lexer": "ipython3",
   "version": "3.9.7"
  }
 },
 "nbformat": 4,
 "nbformat_minor": 5
}
